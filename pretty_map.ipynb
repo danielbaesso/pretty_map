{
  "nbformat": 4,
  "nbformat_minor": 0,
  "metadata": {
    "colab": {
      "provenance": []
    },
    "kernelspec": {
      "name": "python3",
      "display_name": "Python 3"
    },
    "language_info": {
      "name": "python"
    }
  },
  "cells": [
    {
      "cell_type": "code",
      "source": [
        "!pip install prettymaps --quiet\n",
        "!pip install -e \"git+https://github.com/marceloprates/prettymaps#egg=prettymaps\" --quiet"
      ],
      "metadata": {
        "colab": {
          "base_uri": "https://localhost:8080/"
        },
        "collapsed": true,
        "id": "7bF8JVEP45Em",
        "outputId": "72e71963-9651-40c0-ab73-06cbdbfc9d92"
      },
      "execution_count": 16,
      "outputs": [
        {
          "output_type": "stream",
          "name": "stdout",
          "text": [
            "Obtaining prettymaps from git+https://github.com/marceloprates/prettymaps#egg=prettymaps\n",
            "  Updating ./src/prettymaps clone\n",
            "  Running command git fetch -q --tags\n",
            "  Running command git reset --hard -q ba59f1f2910abb6858448f932d0d1a38c36d930c\n",
            "  Preparing metadata (setup.py) ... \u001b[?25l\u001b[?25hdone\n",
            "Requirement already satisfied: numpy>=1.26.4 in /usr/local/lib/python3.12/dist-packages (from prettymaps) (2.0.2)\n",
            "Requirement already satisfied: matplotlib>=3.9.0 in /usr/local/lib/python3.12/dist-packages (from prettymaps) (3.10.0)\n",
            "Requirement already satisfied: shapely>=2.0.0 in /usr/local/lib/python3.12/dist-packages (from prettymaps) (2.1.2)\n",
            "Requirement already satisfied: osmnx>=2.0.5 in /usr/local/lib/python3.12/dist-packages (from prettymaps) (2.0.6)\n",
            "Requirement already satisfied: ipykernel>=6.29.5 in /usr/local/lib/python3.12/dist-packages (from prettymaps) (7.1.0)\n",
            "Requirement already satisfied: rasterio>=1.4.3 in /usr/local/lib/python3.12/dist-packages (from prettymaps) (1.4.3)\n",
            "Requirement already satisfied: rioxarray>=0.18.2 in /usr/local/lib/python3.12/dist-packages (from prettymaps) (0.20.0)\n",
            "Requirement already satisfied: opencv-python>=4.11.0.86 in /usr/local/lib/python3.12/dist-packages (from prettymaps) (4.12.0.88)\n",
            "Requirement already satisfied: scikit-image>=0.25.2 in /usr/local/lib/python3.12/dist-packages (from prettymaps) (0.25.2)\n",
            "Requirement already satisfied: vsketch>=1.0.0 in /usr/local/lib/python3.12/dist-packages (from prettymaps) (1.2.0)\n",
            "Requirement already satisfied: thefuzz>=0.22.1 in /usr/local/lib/python3.12/dist-packages (from prettymaps) (0.22.1)\n",
            "Requirement already satisfied: elevation>=1.1.3 in /usr/local/lib/python3.12/dist-packages (from prettymaps) (1.1.3)\n",
            "Requirement already satisfied: streamlit>=1.42.2 in /usr/local/lib/python3.12/dist-packages (from prettymaps) (1.51.0)\n",
            "Requirement already satisfied: tqdm>=4.67.1 in /usr/local/lib/python3.12/dist-packages (from prettymaps) (4.67.1)\n",
            "Requirement already satisfied: scikit-learn>=1.6.1 in /usr/local/lib/python3.12/dist-packages (from prettymaps) (1.6.1)\n",
            "Requirement already satisfied: appdirs in /usr/local/lib/python3.12/dist-packages (from elevation>=1.1.3->prettymaps) (1.4.4)\n",
            "Requirement already satisfied: click in /usr/local/lib/python3.12/dist-packages (from elevation>=1.1.3->prettymaps) (8.3.0)\n",
            "Requirement already satisfied: fasteners in /usr/local/lib/python3.12/dist-packages (from elevation>=1.1.3->prettymaps) (0.20)\n",
            "Requirement already satisfied: comm>=0.1.1 in /usr/local/lib/python3.12/dist-packages (from ipykernel>=6.29.5->prettymaps) (0.2.3)\n",
            "Requirement already satisfied: debugpy>=1.6.5 in /usr/local/lib/python3.12/dist-packages (from ipykernel>=6.29.5->prettymaps) (1.8.15)\n",
            "Requirement already satisfied: ipython>=7.23.1 in /usr/local/lib/python3.12/dist-packages (from ipykernel>=6.29.5->prettymaps) (7.34.0)\n",
            "Requirement already satisfied: jupyter-client>=8.0.0 in /usr/local/lib/python3.12/dist-packages (from ipykernel>=6.29.5->prettymaps) (8.6.3)\n",
            "Requirement already satisfied: jupyter-core!=5.0.*,>=4.12 in /usr/local/lib/python3.12/dist-packages (from ipykernel>=6.29.5->prettymaps) (5.9.1)\n",
            "Requirement already satisfied: matplotlib-inline>=0.1 in /usr/local/lib/python3.12/dist-packages (from ipykernel>=6.29.5->prettymaps) (0.2.1)\n",
            "Requirement already satisfied: nest-asyncio>=1.4 in /usr/local/lib/python3.12/dist-packages (from ipykernel>=6.29.5->prettymaps) (1.6.0)\n",
            "Requirement already satisfied: packaging>=22 in /usr/local/lib/python3.12/dist-packages (from ipykernel>=6.29.5->prettymaps) (25.0)\n",
            "Requirement already satisfied: psutil>=5.7 in /usr/local/lib/python3.12/dist-packages (from ipykernel>=6.29.5->prettymaps) (5.9.5)\n",
            "Requirement already satisfied: pyzmq>=25 in /usr/local/lib/python3.12/dist-packages (from ipykernel>=6.29.5->prettymaps) (26.2.1)\n",
            "Requirement already satisfied: tornado>=6.2 in /usr/local/lib/python3.12/dist-packages (from ipykernel>=6.29.5->prettymaps) (6.5.1)\n",
            "Requirement already satisfied: traitlets>=5.4.0 in /usr/local/lib/python3.12/dist-packages (from ipykernel>=6.29.5->prettymaps) (5.7.1)\n",
            "Requirement already satisfied: contourpy>=1.0.1 in /usr/local/lib/python3.12/dist-packages (from matplotlib>=3.9.0->prettymaps) (1.3.3)\n",
            "Requirement already satisfied: cycler>=0.10 in /usr/local/lib/python3.12/dist-packages (from matplotlib>=3.9.0->prettymaps) (0.12.1)\n",
            "Requirement already satisfied: fonttools>=4.22.0 in /usr/local/lib/python3.12/dist-packages (from matplotlib>=3.9.0->prettymaps) (4.60.1)\n",
            "Requirement already satisfied: kiwisolver>=1.3.1 in /usr/local/lib/python3.12/dist-packages (from matplotlib>=3.9.0->prettymaps) (1.4.9)\n",
            "Requirement already satisfied: pillow>=8 in /usr/local/lib/python3.12/dist-packages (from matplotlib>=3.9.0->prettymaps) (11.3.0)\n",
            "Requirement already satisfied: pyparsing>=2.3.1 in /usr/local/lib/python3.12/dist-packages (from matplotlib>=3.9.0->prettymaps) (3.2.5)\n",
            "Requirement already satisfied: python-dateutil>=2.7 in /usr/local/lib/python3.12/dist-packages (from matplotlib>=3.9.0->prettymaps) (2.9.0.post0)\n",
            "Requirement already satisfied: geopandas>=1.0.1 in /usr/local/lib/python3.12/dist-packages (from osmnx>=2.0.5->prettymaps) (1.1.1)\n",
            "Requirement already satisfied: networkx>=2.5 in /usr/local/lib/python3.12/dist-packages (from osmnx>=2.0.5->prettymaps) (3.5)\n",
            "Requirement already satisfied: pandas>=1.4 in /usr/local/lib/python3.12/dist-packages (from osmnx>=2.0.5->prettymaps) (2.2.2)\n",
            "Requirement already satisfied: requests>=2.27 in /usr/local/lib/python3.12/dist-packages (from osmnx>=2.0.5->prettymaps) (2.32.4)\n",
            "Requirement already satisfied: affine in /usr/local/lib/python3.12/dist-packages (from rasterio>=1.4.3->prettymaps) (2.4.0)\n",
            "Requirement already satisfied: attrs in /usr/local/lib/python3.12/dist-packages (from rasterio>=1.4.3->prettymaps) (25.4.0)\n",
            "Requirement already satisfied: certifi in /usr/local/lib/python3.12/dist-packages (from rasterio>=1.4.3->prettymaps) (2025.10.5)\n",
            "Requirement already satisfied: cligj>=0.5 in /usr/local/lib/python3.12/dist-packages (from rasterio>=1.4.3->prettymaps) (0.7.2)\n",
            "Requirement already satisfied: click-plugins in /usr/local/lib/python3.12/dist-packages (from rasterio>=1.4.3->prettymaps) (1.1.1.2)\n",
            "Requirement already satisfied: xarray>=2024.7.0 in /usr/local/lib/python3.12/dist-packages (from rioxarray>=0.18.2->prettymaps) (2025.10.1)\n",
            "Requirement already satisfied: pyproj>=3.3 in /usr/local/lib/python3.12/dist-packages (from rioxarray>=0.18.2->prettymaps) (3.7.2)\n",
            "Requirement already satisfied: scipy>=1.11.4 in /usr/local/lib/python3.12/dist-packages (from scikit-image>=0.25.2->prettymaps) (1.16.2)\n",
            "Requirement already satisfied: imageio!=2.35.0,>=2.33 in /usr/local/lib/python3.12/dist-packages (from scikit-image>=0.25.2->prettymaps) (2.37.0)\n",
            "Requirement already satisfied: tifffile>=2022.8.12 in /usr/local/lib/python3.12/dist-packages (from scikit-image>=0.25.2->prettymaps) (2025.10.16)\n",
            "Requirement already satisfied: lazy-loader>=0.4 in /usr/local/lib/python3.12/dist-packages (from scikit-image>=0.25.2->prettymaps) (0.4)\n",
            "Requirement already satisfied: joblib>=1.2.0 in /usr/local/lib/python3.12/dist-packages (from scikit-learn>=1.6.1->prettymaps) (1.5.2)\n",
            "Requirement already satisfied: threadpoolctl>=3.1.0 in /usr/local/lib/python3.12/dist-packages (from scikit-learn>=1.6.1->prettymaps) (3.6.0)\n",
            "Requirement already satisfied: altair!=5.4.0,!=5.4.1,<6,>=4.0 in /usr/local/lib/python3.12/dist-packages (from streamlit>=1.42.2->prettymaps) (5.5.0)\n",
            "Requirement already satisfied: blinker<2,>=1.5.0 in /usr/local/lib/python3.12/dist-packages (from streamlit>=1.42.2->prettymaps) (1.9.0)\n",
            "Requirement already satisfied: cachetools<7,>=4.0 in /usr/local/lib/python3.12/dist-packages (from streamlit>=1.42.2->prettymaps) (5.5.2)\n",
            "Requirement already satisfied: protobuf<7,>=3.20 in /usr/local/lib/python3.12/dist-packages (from streamlit>=1.42.2->prettymaps) (5.29.5)\n",
            "Requirement already satisfied: pyarrow<22,>=7.0 in /usr/local/lib/python3.12/dist-packages (from streamlit>=1.42.2->prettymaps) (18.1.0)\n",
            "Requirement already satisfied: tenacity<10,>=8.1.0 in /usr/local/lib/python3.12/dist-packages (from streamlit>=1.42.2->prettymaps) (8.5.0)\n",
            "Requirement already satisfied: toml<2,>=0.10.1 in /usr/local/lib/python3.12/dist-packages (from streamlit>=1.42.2->prettymaps) (0.10.2)\n",
            "Requirement already satisfied: typing-extensions<5,>=4.4.0 in /usr/local/lib/python3.12/dist-packages (from streamlit>=1.42.2->prettymaps) (4.15.0)\n",
            "Requirement already satisfied: watchdog<7,>=2.1.5 in /usr/local/lib/python3.12/dist-packages (from streamlit>=1.42.2->prettymaps) (6.0.0)\n",
            "Requirement already satisfied: gitpython!=3.1.19,<4,>=3.0.7 in /usr/local/lib/python3.12/dist-packages (from streamlit>=1.42.2->prettymaps) (3.1.45)\n",
            "Requirement already satisfied: pydeck<1,>=0.8.0b4 in /usr/local/lib/python3.12/dist-packages (from streamlit>=1.42.2->prettymaps) (0.9.1)\n",
            "Requirement already satisfied: rapidfuzz<4.0.0,>=3.0.0 in /usr/local/lib/python3.12/dist-packages (from thefuzz>=0.22.1->prettymaps) (3.14.1)\n",
            "Requirement already satisfied: PySide6>=6.3.2 in /usr/local/lib/python3.12/dist-packages (from vsketch>=1.0.0->prettymaps) (6.10.0)\n",
            "Requirement already satisfied: cookiecutter>=2.1 in /usr/local/lib/python3.12/dist-packages (from vsketch>=1.0.0->prettymaps) (2.6.0)\n",
            "Requirement already satisfied: multiprocess>=0.70 in /usr/local/lib/python3.12/dist-packages (from vsketch>=1.0.0->prettymaps) (0.70.16)\n",
            "Requirement already satisfied: pnoise>=0.2.0 in /usr/local/lib/python3.12/dist-packages (from vsketch>=1.0.0->prettymaps) (0.2.0)\n",
            "Requirement already satisfied: vpype>=1.15.0 in /usr/local/lib/python3.12/dist-packages (from vpype[all]>=1.15.0->vsketch>=1.0.0->prettymaps) (1.15.0)\n",
            "Requirement already satisfied: watchfiles>=0.12 in /usr/local/lib/python3.12/dist-packages (from vsketch>=1.0.0->prettymaps) (1.1.1)\n",
            "Requirement already satisfied: jinja2 in /usr/local/lib/python3.12/dist-packages (from altair!=5.4.0,!=5.4.1,<6,>=4.0->streamlit>=1.42.2->prettymaps) (3.1.6)\n",
            "Requirement already satisfied: jsonschema>=3.0 in /usr/local/lib/python3.12/dist-packages (from altair!=5.4.0,!=5.4.1,<6,>=4.0->streamlit>=1.42.2->prettymaps) (4.25.1)\n",
            "Requirement already satisfied: narwhals>=1.14.2 in /usr/local/lib/python3.12/dist-packages (from altair!=5.4.0,!=5.4.1,<6,>=4.0->streamlit>=1.42.2->prettymaps) (2.9.0)\n",
            "Requirement already satisfied: binaryornot>=0.4.4 in /usr/local/lib/python3.12/dist-packages (from cookiecutter>=2.1->vsketch>=1.0.0->prettymaps) (0.4.4)\n",
            "Requirement already satisfied: pyyaml>=5.3.1 in /usr/local/lib/python3.12/dist-packages (from cookiecutter>=2.1->vsketch>=1.0.0->prettymaps) (6.0.3)\n",
            "Requirement already satisfied: python-slugify>=4.0.0 in /usr/local/lib/python3.12/dist-packages (from cookiecutter>=2.1->vsketch>=1.0.0->prettymaps) (8.0.4)\n",
            "Requirement already satisfied: arrow in /usr/local/lib/python3.12/dist-packages (from cookiecutter>=2.1->vsketch>=1.0.0->prettymaps) (1.4.0)\n",
            "Requirement already satisfied: rich in /usr/local/lib/python3.12/dist-packages (from cookiecutter>=2.1->vsketch>=1.0.0->prettymaps) (13.9.4)\n",
            "Requirement already satisfied: pyogrio>=0.7.2 in /usr/local/lib/python3.12/dist-packages (from geopandas>=1.0.1->osmnx>=2.0.5->prettymaps) (0.11.1)\n",
            "Requirement already satisfied: gitdb<5,>=4.0.1 in /usr/local/lib/python3.12/dist-packages (from gitpython!=3.1.19,<4,>=3.0.7->streamlit>=1.42.2->prettymaps) (4.0.12)\n",
            "Requirement already satisfied: setuptools>=18.5 in /usr/local/lib/python3.12/dist-packages (from ipython>=7.23.1->ipykernel>=6.29.5->prettymaps) (75.2.0)\n",
            "Requirement already satisfied: jedi>=0.16 in /usr/local/lib/python3.12/dist-packages (from ipython>=7.23.1->ipykernel>=6.29.5->prettymaps) (0.19.2)\n",
            "Requirement already satisfied: decorator in /usr/local/lib/python3.12/dist-packages (from ipython>=7.23.1->ipykernel>=6.29.5->prettymaps) (4.4.2)\n",
            "Requirement already satisfied: pickleshare in /usr/local/lib/python3.12/dist-packages (from ipython>=7.23.1->ipykernel>=6.29.5->prettymaps) (0.7.5)\n",
            "Requirement already satisfied: prompt-toolkit!=3.0.0,!=3.0.1,<3.1.0,>=2.0.0 in /usr/local/lib/python3.12/dist-packages (from ipython>=7.23.1->ipykernel>=6.29.5->prettymaps) (3.0.52)\n",
            "Requirement already satisfied: pygments in /usr/local/lib/python3.12/dist-packages (from ipython>=7.23.1->ipykernel>=6.29.5->prettymaps) (2.19.2)\n",
            "Requirement already satisfied: backcall in /usr/local/lib/python3.12/dist-packages (from ipython>=7.23.1->ipykernel>=6.29.5->prettymaps) (0.2.0)\n",
            "Requirement already satisfied: pexpect>4.3 in /usr/local/lib/python3.12/dist-packages (from ipython>=7.23.1->ipykernel>=6.29.5->prettymaps) (4.9.0)\n",
            "Requirement already satisfied: platformdirs>=2.5 in /usr/local/lib/python3.12/dist-packages (from jupyter-core!=5.0.*,>=4.12->ipykernel>=6.29.5->prettymaps) (4.5.0)\n",
            "Requirement already satisfied: dill>=0.3.8 in /usr/local/lib/python3.12/dist-packages (from multiprocess>=0.70->vsketch>=1.0.0->prettymaps) (0.3.8)\n",
            "Requirement already satisfied: pytz>=2020.1 in /usr/local/lib/python3.12/dist-packages (from pandas>=1.4->osmnx>=2.0.5->prettymaps) (2025.2)\n",
            "Requirement already satisfied: tzdata>=2022.7 in /usr/local/lib/python3.12/dist-packages (from pandas>=1.4->osmnx>=2.0.5->prettymaps) (2025.2)\n",
            "Requirement already satisfied: shiboken6==6.10.0 in /usr/local/lib/python3.12/dist-packages (from PySide6>=6.3.2->vsketch>=1.0.0->prettymaps) (6.10.0)\n",
            "Requirement already satisfied: PySide6_Essentials==6.10.0 in /usr/local/lib/python3.12/dist-packages (from PySide6>=6.3.2->vsketch>=1.0.0->prettymaps) (6.10.0)\n",
            "Requirement already satisfied: PySide6_Addons==6.10.0 in /usr/local/lib/python3.12/dist-packages (from PySide6>=6.3.2->vsketch>=1.0.0->prettymaps) (6.10.0)\n",
            "Requirement already satisfied: six>=1.5 in /usr/local/lib/python3.12/dist-packages (from python-dateutil>=2.7->matplotlib>=3.9.0->prettymaps) (1.17.0)\n",
            "Requirement already satisfied: charset_normalizer<4,>=2 in /usr/local/lib/python3.12/dist-packages (from requests>=2.27->osmnx>=2.0.5->prettymaps) (3.4.4)\n",
            "Requirement already satisfied: idna<4,>=2.5 in /usr/local/lib/python3.12/dist-packages (from requests>=2.27->osmnx>=2.0.5->prettymaps) (3.11)\n",
            "Requirement already satisfied: urllib3<3,>=1.21.1 in /usr/local/lib/python3.12/dist-packages (from requests>=2.27->osmnx>=2.0.5->prettymaps) (2.5.0)\n",
            "\u001b[33mWARNING: shapely 2.1.2 does not provide the extra 'vectorized'\u001b[0m\u001b[33m\n",
            "\u001b[0mRequirement already satisfied: asteval>=0.9.26 in /usr/local/lib/python3.12/dist-packages (from vpype>=1.15.0->vpype[all]>=1.15.0->vsketch>=1.0.0->prettymaps) (1.0.6)\n",
            "Requirement already satisfied: pyphen<0.16,>=0.14 in /usr/local/lib/python3.12/dist-packages (from vpype>=1.15.0->vpype[all]>=1.15.0->vsketch>=1.0.0->prettymaps) (0.15.0)\n",
            "Requirement already satisfied: svgelements>=1.6.10 in /usr/local/lib/python3.12/dist-packages (from vpype>=1.15.0->vpype[all]>=1.15.0->vsketch>=1.0.0->prettymaps) (1.9.6)\n",
            "Requirement already satisfied: svgwrite<2.0,>=1.4 in /usr/local/lib/python3.12/dist-packages (from vpype>=1.15.0->vpype[all]>=1.15.0->vsketch>=1.0.0->prettymaps) (1.4.3)\n",
            "Requirement already satisfied: tomli>=2.0.0 in /usr/local/lib/python3.12/dist-packages (from vpype>=1.15.0->vpype[all]>=1.15.0->vsketch>=1.0.0->prettymaps) (2.3.0)\n",
            "Requirement already satisfied: glcontext>=2.3.2 in /usr/local/lib/python3.12/dist-packages (from vpype[all]>=1.15.0->vsketch>=1.0.0->prettymaps) (3.0.0)\n",
            "Requirement already satisfied: moderngl!=5.7.1,!=5.7.2,>=5.6.2 in /usr/local/lib/python3.12/dist-packages (from vpype[all]>=1.15.0->vsketch>=1.0.0->prettymaps) (5.12.0)\n",
            "Requirement already satisfied: anyio>=3.0.0 in /usr/local/lib/python3.12/dist-packages (from watchfiles>=0.12->vsketch>=1.0.0->prettymaps) (4.11.0)\n",
            "Requirement already satisfied: sniffio>=1.1 in /usr/local/lib/python3.12/dist-packages (from anyio>=3.0.0->watchfiles>=0.12->vsketch>=1.0.0->prettymaps) (1.3.1)\n",
            "Requirement already satisfied: chardet>=3.0.2 in /usr/local/lib/python3.12/dist-packages (from binaryornot>=0.4.4->cookiecutter>=2.1->vsketch>=1.0.0->prettymaps) (5.2.0)\n",
            "Requirement already satisfied: smmap<6,>=3.0.1 in /usr/local/lib/python3.12/dist-packages (from gitdb<5,>=4.0.1->gitpython!=3.1.19,<4,>=3.0.7->streamlit>=1.42.2->prettymaps) (5.0.2)\n",
            "Requirement already satisfied: parso<0.9.0,>=0.8.4 in /usr/local/lib/python3.12/dist-packages (from jedi>=0.16->ipython>=7.23.1->ipykernel>=6.29.5->prettymaps) (0.8.5)\n",
            "Requirement already satisfied: MarkupSafe>=2.0 in /usr/local/lib/python3.12/dist-packages (from jinja2->altair!=5.4.0,!=5.4.1,<6,>=4.0->streamlit>=1.42.2->prettymaps) (3.0.3)\n",
            "Requirement already satisfied: jsonschema-specifications>=2023.03.6 in /usr/local/lib/python3.12/dist-packages (from jsonschema>=3.0->altair!=5.4.0,!=5.4.1,<6,>=4.0->streamlit>=1.42.2->prettymaps) (2025.9.1)\n",
            "Requirement already satisfied: referencing>=0.28.4 in /usr/local/lib/python3.12/dist-packages (from jsonschema>=3.0->altair!=5.4.0,!=5.4.1,<6,>=4.0->streamlit>=1.42.2->prettymaps) (0.37.0)\n",
            "Requirement already satisfied: rpds-py>=0.7.1 in /usr/local/lib/python3.12/dist-packages (from jsonschema>=3.0->altair!=5.4.0,!=5.4.1,<6,>=4.0->streamlit>=1.42.2->prettymaps) (0.28.0)\n",
            "Requirement already satisfied: ptyprocess>=0.5 in /usr/local/lib/python3.12/dist-packages (from pexpect>4.3->ipython>=7.23.1->ipykernel>=6.29.5->prettymaps) (0.7.0)\n",
            "Requirement already satisfied: wcwidth in /usr/local/lib/python3.12/dist-packages (from prompt-toolkit!=3.0.0,!=3.0.1,<3.1.0,>=2.0.0->ipython>=7.23.1->ipykernel>=6.29.5->prettymaps) (0.2.14)\n",
            "Requirement already satisfied: text-unidecode>=1.3 in /usr/local/lib/python3.12/dist-packages (from python-slugify>=4.0.0->cookiecutter>=2.1->vsketch>=1.0.0->prettymaps) (1.3)\n",
            "Requirement already satisfied: markdown-it-py>=2.2.0 in /usr/local/lib/python3.12/dist-packages (from rich->cookiecutter>=2.1->vsketch>=1.0.0->prettymaps) (4.0.0)\n",
            "Requirement already satisfied: mdurl~=0.1 in /usr/local/lib/python3.12/dist-packages (from markdown-it-py>=2.2.0->rich->cookiecutter>=2.1->vsketch>=1.0.0->prettymaps) (0.1.2)\n",
            "Installing collected packages: prettymaps\n",
            "  Attempting uninstall: prettymaps\n",
            "    Found existing installation: prettymaps 1.4.2\n",
            "    Uninstalling prettymaps-1.4.2:\n",
            "      Successfully uninstalled prettymaps-1.4.2\n",
            "  Running setup.py develop for prettymaps\n",
            "Successfully installed prettymaps-1.4.2\n"
          ]
        }
      ]
    },
    {
      "cell_type": "code",
      "source": [
        "import prettymaps"
      ],
      "metadata": {
        "id": "nNBq0bgD4aKt"
      },
      "execution_count": null,
      "outputs": []
    },
    {
      "cell_type": "code",
      "source": [
        "import prettymaps\n",
        "\n",
        "plot = prettymaps.plot('Brasília, Distrito Federal, Brazil',\n",
        "                       preset = 'minimal'\n",
        "                       )"
      ],
      "metadata": {
        "colab": {
          "base_uri": "https://localhost:8080/",
          "height": 147
        },
        "id": "yUEClXpEqQ4z",
        "outputId": "0e1cf39d-2fd7-46ec-8367-ff9961886533",
        "collapsed": true
      },
      "execution_count": 13,
      "outputs": [
        {
          "output_type": "error",
          "ename": "NameError",
          "evalue": "name 'prettymaps' is not defined",
          "traceback": [
            "\u001b[0;31m---------------------------------------------------------------------------\u001b[0m",
            "\u001b[0;31mNameError\u001b[0m                                 Traceback (most recent call last)",
            "\u001b[0;32m/tmp/ipython-input-179371224.py\u001b[0m in \u001b[0;36m<cell line: 0>\u001b[0;34m()\u001b[0m\n\u001b[0;32m----> 1\u001b[0;31m \u001b[0mplot\u001b[0m \u001b[0;34m=\u001b[0m \u001b[0mprettymaps\u001b[0m\u001b[0;34m.\u001b[0m\u001b[0mplot\u001b[0m\u001b[0;34m(\u001b[0m\u001b[0;34m'Salamanca, Espanha'\u001b[0m\u001b[0;34m)\u001b[0m\u001b[0;34m\u001b[0m\u001b[0;34m\u001b[0m\u001b[0m\n\u001b[0m",
            "\u001b[0;31mNameError\u001b[0m: name 'prettymaps' is not defined"
          ]
        }
      ]
    },
    {
      "cell_type": "code",
      "source": [],
      "metadata": {
        "id": "JFEVja7ZtyJR"
      },
      "execution_count": null,
      "outputs": []
    }
  ]
}